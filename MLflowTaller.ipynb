{
 "cells": [
  {
   "cell_type": "markdown",
   "metadata": {},
   "source": [
    "## Guia MLflow"
   ]
  },
  {
   "cell_type": "code",
   "metadata": {
    "ExecuteTime": {
     "end_time": "2025-04-05T19:33:13.834316Z",
     "start_time": "2025-04-05T19:33:13.829540Z"
    }
   },
   "source": [
    "import mlflow\n",
    "mlflow.set_tracking_uri(uri=\"http://127.0.0.1:8080\")"
   ],
   "outputs": [],
   "execution_count": 12
  },
  {
   "cell_type": "code",
   "metadata": {
    "ExecuteTime": {
     "end_time": "2025-04-05T19:57:52.674109Z",
     "start_time": "2025-04-05T19:57:52.514656Z"
    }
   },
   "source": [
    "import mlflow\n",
    "from mlflow.models import infer_signature\n",
    "import pandas as pd\n",
    "from sklearn import datasets\n",
    "from sklearn.model_selection import train_test_split\n",
    "from sklearn.linear_model import LogisticRegression\n",
    "from sklearn.metrics import accuracy_score, precision_score, recall_score, f1_score, roc_auc_score\n",
    "\n",
    "# Load the Iris dataset\n",
    "X, y = datasets.load_iris(return_X_y=True)\n",
    "# Split the data into training and test sets\n",
    "X_train, X_test, y_train, y_test = train_test_split(\n",
    "    X, y, test_size=0.2, random_state=42\n",
    ")\n",
    "# Define the model hyperparameters\n",
    "params = {\n",
    "    \"solver\": \"lbfgs\",\n",
    "    \"max_iter\": 1000,\n",
    "    \"multi_class\": \"auto\",\n",
    "    \"random_state\": 8888,\n",
    "}\n",
    "# Train the model\n",
    "lr = LogisticRegression(**params)\n",
    "lr.fit(X_train, y_train)\n",
    "# Predict on the test set\n",
    "y_pred = lr.predict(X_test)\n",
    "# Calculate metrics\n",
    "accuracy = accuracy_score(y_test, y_pred)\n",
    "\n",
    "# se crean nuevas métricas\n",
    "precision = precision_score(y_test, y_pred, average=\"macro\")\n",
    "recall = recall_score(y_test, y_pred, average=\"macro\")\n",
    "f1 = f1_score(y_test, y_pred, average=\"macro\")\n",
    "y_proba = lr.predict_proba(X_test)\n",
    "AUC_ROC = roc_auc_score(y_test, y_proba, multi_class=\"ovr\")\n"
   ],
   "outputs": [
    {
     "name": "stderr",
     "output_type": "stream",
     "text": [
      "/Users/henryragua/Documents/estudio/MachineLearning/Semestre III/MlOps/mlflow/pythonProject/.venv/lib/python3.10/site-packages/sklearn/linear_model/_logistic.py:1247: FutureWarning: 'multi_class' was deprecated in version 1.5 and will be removed in 1.7. From then on, it will always use 'multinomial'. Leave it to its default value to avoid this warning.\n",
      "  warnings.warn(\n"
     ]
    }
   ],
   "execution_count": 27
  },
  {
   "metadata": {
    "ExecuteTime": {
     "end_time": "2025-04-05T19:57:56.178325Z",
     "start_time": "2025-04-05T19:57:56.173431Z"
    }
   },
   "cell_type": "code",
   "source": [
    "# Set our tracking server uri for logging\n",
    "mlflow.set_tracking_uri(uri=\"http://127.0.0.1:8080\")"
   ],
   "outputs": [],
   "execution_count": 28
  },
  {
   "cell_type": "code",
   "metadata": {
    "ExecuteTime": {
     "end_time": "2025-04-05T19:58:43.103577Z",
     "start_time": "2025-04-05T19:58:40.749998Z"
    }
   },
   "source": [
    "\n",
    "\n",
    "# Create a new MLflow Experiment\n",
    "mlflow.set_experiment(\"MLflow Quickstart\")\n",
    "# Start an MLflow run\n",
    "with mlflow.start_run():\n",
    "    # Log the hyperparameters\n",
    "    mlflow.log_params(params)\n",
    "    \n",
    "    # Log the loss metric\n",
    "    mlflow.set_tag(\"Training Info\", \"Basic LR model for iris data\")\n",
    "    mlflow.log_metric(\"accuracy\", accuracy)\n",
    "    mlflow.log_metric(\"precision\", precision)\n",
    "    mlflow.log_metric(\"recall\", recall)\n",
    "    mlflow.log_metric(\"f1\", f1)\n",
    "    mlflow.log_metric(\"AUC_ROC\", AUC_ROC)\n",
    "    # Infer the model signature\n",
    "    signature = infer_signature(X_train, lr.predict(X_train))\n",
    "    # Log the model\n",
    "    model_info = mlflow.sklearn.log_model(\n",
    "        sk_model=lr,\n",
    "        artifact_path=\"iris_model\",\n",
    "        signature=signature,\n",
    "        input_example=X_train,\n",
    "        registered_model_name=\"tracking-quickstart\",\n",
    "    )"
   ],
   "outputs": [
    {
     "name": "stderr",
     "output_type": "stream",
     "text": [
      "Registered model 'tracking-quickstart' already exists. Creating a new version of this model...\n",
      "2025/04/05 14:58:43 INFO mlflow.store.model_registry.abstract_store: Waiting up to 300 seconds for model version to finish creation. Model name: tracking-quickstart, version 5\n"
     ]
    },
    {
     "name": "stdout",
     "output_type": "stream",
     "text": [
      "🏃 View run mercurial-ant-607 at: http://127.0.0.1:8080/#/experiments/154373928185873316/runs/fc8cbadbc11648ccb9421c761366269f\n",
      "🧪 View experiment at: http://127.0.0.1:8080/#/experiments/154373928185873316\n"
     ]
    },
    {
     "name": "stderr",
     "output_type": "stream",
     "text": [
      "Created version '5' of model 'tracking-quickstart'.\n"
     ]
    }
   ],
   "execution_count": 30
  },
  {
   "cell_type": "code",
   "metadata": {
    "ExecuteTime": {
     "end_time": "2025-04-05T20:04:48.919714Z",
     "start_time": "2025-04-05T20:04:48.373326Z"
    }
   },
   "source": [
    "# Load the model back for predictions as a generic Python Function model\n",
    "loaded_model = mlflow.pyfunc.load_model(model_info.model_uri)\n",
    "\n",
    "predictions = loaded_model.predict(X_test)\n",
    "iris_feature_names = datasets.load_iris().feature_names\n",
    "result = pd.DataFrame(X_test, columns=iris_feature_names)\n",
    "result[\"actual_class\"] = y_test\n",
    "result[\"predicted_class\"] = predictions\n",
    "result[:4]"
   ],
   "outputs": [
    {
     "data": {
      "text/plain": [
       "   sepal length (cm)  sepal width (cm)  petal length (cm)  petal width (cm)  \\\n",
       "0                6.1               2.8                4.7               1.2   \n",
       "1                5.7               3.8                1.7               0.3   \n",
       "2                7.7               2.6                6.9               2.3   \n",
       "3                6.0               2.9                4.5               1.5   \n",
       "\n",
       "   actual_class  predicted_class  \n",
       "0             1                1  \n",
       "1             0                0  \n",
       "2             2                2  \n",
       "3             1                1  "
      ],
      "text/html": [
       "<div>\n",
       "<style scoped>\n",
       "    .dataframe tbody tr th:only-of-type {\n",
       "        vertical-align: middle;\n",
       "    }\n",
       "\n",
       "    .dataframe tbody tr th {\n",
       "        vertical-align: top;\n",
       "    }\n",
       "\n",
       "    .dataframe thead th {\n",
       "        text-align: right;\n",
       "    }\n",
       "</style>\n",
       "<table border=\"1\" class=\"dataframe\">\n",
       "  <thead>\n",
       "    <tr style=\"text-align: right;\">\n",
       "      <th></th>\n",
       "      <th>sepal length (cm)</th>\n",
       "      <th>sepal width (cm)</th>\n",
       "      <th>petal length (cm)</th>\n",
       "      <th>petal width (cm)</th>\n",
       "      <th>actual_class</th>\n",
       "      <th>predicted_class</th>\n",
       "    </tr>\n",
       "  </thead>\n",
       "  <tbody>\n",
       "    <tr>\n",
       "      <th>0</th>\n",
       "      <td>6.1</td>\n",
       "      <td>2.8</td>\n",
       "      <td>4.7</td>\n",
       "      <td>1.2</td>\n",
       "      <td>1</td>\n",
       "      <td>1</td>\n",
       "    </tr>\n",
       "    <tr>\n",
       "      <th>1</th>\n",
       "      <td>5.7</td>\n",
       "      <td>3.8</td>\n",
       "      <td>1.7</td>\n",
       "      <td>0.3</td>\n",
       "      <td>0</td>\n",
       "      <td>0</td>\n",
       "    </tr>\n",
       "    <tr>\n",
       "      <th>2</th>\n",
       "      <td>7.7</td>\n",
       "      <td>2.6</td>\n",
       "      <td>6.9</td>\n",
       "      <td>2.3</td>\n",
       "      <td>2</td>\n",
       "      <td>2</td>\n",
       "    </tr>\n",
       "    <tr>\n",
       "      <th>3</th>\n",
       "      <td>6.0</td>\n",
       "      <td>2.9</td>\n",
       "      <td>4.5</td>\n",
       "      <td>1.5</td>\n",
       "      <td>1</td>\n",
       "      <td>1</td>\n",
       "    </tr>\n",
       "  </tbody>\n",
       "</table>\n",
       "</div>"
      ]
     },
     "execution_count": 31,
     "metadata": {},
     "output_type": "execute_result"
    }
   ],
   "execution_count": 31
  },
  {
   "cell_type": "code",
   "metadata": {
    "ExecuteTime": {
     "end_time": "2025-04-05T20:09:03.559095Z",
     "start_time": "2025-04-05T20:04:54.663981Z"
    }
   },
   "source": [
    "import mlflow.pyfunc\n",
    "import numpy as np\n",
    "# Ruta del modelo registrado\n",
    "model_uri = \"mlflow-artifacts:/455314737741369698/a40bf7dbf9da4e5ba12a4ec42b77de53/artifacts/iris_model\"\n",
    "\n",
    "loaded_model = mlflow.pyfunc.load_model(model_uri)\n",
    "# Define new test data\n",
    "new_data = np.array([\n",
    "    [5.1, 3.5, 1.4, 0.2],\n",
    "    [6.7, 3.1, 4.7, 1.5]\n",
    "])\n",
    "# Use the loaded model to make predictions\n",
    "predictions = loaded_model.predict(new_data)\n",
    "# Print the prediction results\n",
    "print(\"Predictions:\", predictions)"
   ],
   "outputs": [
    {
     "ename": "MlflowException",
     "evalue": "The following failures occurred while downloading one or more artifacts from http://127.0.0.1:8080/api/2.0/mlflow-artifacts/artifacts/455314737741369698/a40bf7dbf9da4e5ba12a4ec42b77de53/artifacts:\n##### File iris_model #####\nAPI request to http://127.0.0.1:8080/api/2.0/mlflow-artifacts/artifacts/455314737741369698/a40bf7dbf9da4e5ba12a4ec42b77de53/artifacts/iris_model failed with exception HTTPConnectionPool(host='127.0.0.1', port=8080): Max retries exceeded with url: /api/2.0/mlflow-artifacts/artifacts/455314737741369698/a40bf7dbf9da4e5ba12a4ec42b77de53/artifacts/iris_model (Caused by ResponseError('too many 500 error responses'))",
     "output_type": "error",
     "traceback": [
      "\u001B[0;31m---------------------------------------------------------------------------\u001B[0m",
      "\u001B[0;31mMlflowException\u001B[0m                           Traceback (most recent call last)",
      "Cell \u001B[0;32mIn[32], line 6\u001B[0m\n\u001B[1;32m      3\u001B[0m \u001B[38;5;66;03m# Ruta del modelo registrado\u001B[39;00m\n\u001B[1;32m      4\u001B[0m model_uri \u001B[38;5;241m=\u001B[39m \u001B[38;5;124m\"\u001B[39m\u001B[38;5;124mmlflow-artifacts:/455314737741369698/a40bf7dbf9da4e5ba12a4ec42b77de53/artifacts/iris_model\u001B[39m\u001B[38;5;124m\"\u001B[39m\n\u001B[0;32m----> 6\u001B[0m loaded_model \u001B[38;5;241m=\u001B[39m \u001B[43mmlflow\u001B[49m\u001B[38;5;241;43m.\u001B[39;49m\u001B[43mpyfunc\u001B[49m\u001B[38;5;241;43m.\u001B[39;49m\u001B[43mload_model\u001B[49m\u001B[43m(\u001B[49m\u001B[43mmodel_uri\u001B[49m\u001B[43m)\u001B[49m\n\u001B[1;32m      7\u001B[0m \u001B[38;5;66;03m# Define new test data\u001B[39;00m\n\u001B[1;32m      8\u001B[0m new_data \u001B[38;5;241m=\u001B[39m np\u001B[38;5;241m.\u001B[39marray([\n\u001B[1;32m      9\u001B[0m     [\u001B[38;5;241m5.1\u001B[39m, \u001B[38;5;241m3.5\u001B[39m, \u001B[38;5;241m1.4\u001B[39m, \u001B[38;5;241m0.2\u001B[39m],\n\u001B[1;32m     10\u001B[0m     [\u001B[38;5;241m6.7\u001B[39m, \u001B[38;5;241m3.1\u001B[39m, \u001B[38;5;241m4.7\u001B[39m, \u001B[38;5;241m1.5\u001B[39m]\n\u001B[1;32m     11\u001B[0m ])\n",
      "File \u001B[0;32m~/Documents/estudio/MachineLearning/Semestre III/MlOps/mlflow/pythonProject/.venv/lib/python3.10/site-packages/mlflow/tracing/provider.py:422\u001B[0m, in \u001B[0;36mtrace_disabled.<locals>.wrapper\u001B[0;34m(*args, **kwargs)\u001B[0m\n\u001B[1;32m    420\u001B[0m disable()\n\u001B[1;32m    421\u001B[0m \u001B[38;5;28;01mtry\u001B[39;00m:\n\u001B[0;32m--> 422\u001B[0m     is_func_called, result \u001B[38;5;241m=\u001B[39m \u001B[38;5;28;01mTrue\u001B[39;00m, \u001B[43mf\u001B[49m\u001B[43m(\u001B[49m\u001B[38;5;241;43m*\u001B[39;49m\u001B[43margs\u001B[49m\u001B[43m,\u001B[49m\u001B[43m \u001B[49m\u001B[38;5;241;43m*\u001B[39;49m\u001B[38;5;241;43m*\u001B[39;49m\u001B[43mkwargs\u001B[49m\u001B[43m)\u001B[49m\n\u001B[1;32m    423\u001B[0m \u001B[38;5;28;01mfinally\u001B[39;00m:\n\u001B[1;32m    424\u001B[0m     enable()\n",
      "File \u001B[0;32m~/Documents/estudio/MachineLearning/Semestre III/MlOps/mlflow/pythonProject/.venv/lib/python3.10/site-packages/mlflow/pyfunc/__init__.py:1091\u001B[0m, in \u001B[0;36mload_model\u001B[0;34m(model_uri, suppress_warnings, dst_path, model_config)\u001B[0m\n\u001B[1;32m   1087\u001B[0m         entity_list\u001B[38;5;241m.\u001B[39mappend(Entity(job\u001B[38;5;241m=\u001B[39mjob_entity))\n\u001B[1;32m   1089\u001B[0m     lineage_header_info \u001B[38;5;241m=\u001B[39m LineageHeaderInfo(entities\u001B[38;5;241m=\u001B[39mentity_list) \u001B[38;5;28;01mif\u001B[39;00m entity_list \u001B[38;5;28;01melse\u001B[39;00m \u001B[38;5;28;01mNone\u001B[39;00m\n\u001B[0;32m-> 1091\u001B[0m local_path \u001B[38;5;241m=\u001B[39m \u001B[43m_download_artifact_from_uri\u001B[49m\u001B[43m(\u001B[49m\n\u001B[1;32m   1092\u001B[0m \u001B[43m    \u001B[49m\u001B[43martifact_uri\u001B[49m\u001B[38;5;241;43m=\u001B[39;49m\u001B[43mmodel_uri\u001B[49m\u001B[43m,\u001B[49m\u001B[43m \u001B[49m\u001B[43moutput_path\u001B[49m\u001B[38;5;241;43m=\u001B[39;49m\u001B[43mdst_path\u001B[49m\u001B[43m,\u001B[49m\u001B[43m \u001B[49m\u001B[43mlineage_header_info\u001B[49m\u001B[38;5;241;43m=\u001B[39;49m\u001B[43mlineage_header_info\u001B[49m\n\u001B[1;32m   1093\u001B[0m \u001B[43m\u001B[49m\u001B[43m)\u001B[49m\n\u001B[1;32m   1095\u001B[0m \u001B[38;5;28;01mif\u001B[39;00m \u001B[38;5;129;01mnot\u001B[39;00m suppress_warnings:\n\u001B[1;32m   1096\u001B[0m     model_requirements \u001B[38;5;241m=\u001B[39m _get_pip_requirements_from_model_path(local_path)\n",
      "File \u001B[0;32m~/Documents/estudio/MachineLearning/Semestre III/MlOps/mlflow/pythonProject/.venv/lib/python3.10/site-packages/mlflow/tracking/artifact_utils.py:116\u001B[0m, in \u001B[0;36m_download_artifact_from_uri\u001B[0;34m(artifact_uri, output_path, lineage_header_info)\u001B[0m\n\u001B[1;32m    110\u001B[0m \u001B[38;5;28;01mif\u001B[39;00m \u001B[38;5;28misinstance\u001B[39m(repo, ModelsArtifactRepository):\n\u001B[1;32m    111\u001B[0m     \u001B[38;5;28;01mreturn\u001B[39;00m repo\u001B[38;5;241m.\u001B[39mdownload_artifacts(\n\u001B[1;32m    112\u001B[0m         artifact_path\u001B[38;5;241m=\u001B[39martifact_path,\n\u001B[1;32m    113\u001B[0m         dst_path\u001B[38;5;241m=\u001B[39moutput_path,\n\u001B[1;32m    114\u001B[0m         lineage_header_info\u001B[38;5;241m=\u001B[39mlineage_header_info,\n\u001B[1;32m    115\u001B[0m     )\n\u001B[0;32m--> 116\u001B[0m \u001B[38;5;28;01mreturn\u001B[39;00m \u001B[43mrepo\u001B[49m\u001B[38;5;241;43m.\u001B[39;49m\u001B[43mdownload_artifacts\u001B[49m\u001B[43m(\u001B[49m\u001B[43martifact_path\u001B[49m\u001B[38;5;241;43m=\u001B[39;49m\u001B[43martifact_path\u001B[49m\u001B[43m,\u001B[49m\u001B[43m \u001B[49m\u001B[43mdst_path\u001B[49m\u001B[38;5;241;43m=\u001B[39;49m\u001B[43moutput_path\u001B[49m\u001B[43m)\u001B[49m\n",
      "File \u001B[0;32m~/Documents/estudio/MachineLearning/Semestre III/MlOps/mlflow/pythonProject/.venv/lib/python3.10/site-packages/mlflow/store/artifact/artifact_repo.py:317\u001B[0m, in \u001B[0;36mArtifactRepository.download_artifacts\u001B[0;34m(self, artifact_path, dst_path)\u001B[0m\n\u001B[1;32m    311\u001B[0m         template \u001B[38;5;241m=\u001B[39m \u001B[38;5;124m\"\u001B[39m\u001B[38;5;124m##### File \u001B[39m\u001B[38;5;132;01m{path}\u001B[39;00m\u001B[38;5;124m #####\u001B[39m\u001B[38;5;130;01m\\n\u001B[39;00m\u001B[38;5;132;01m{error}\u001B[39;00m\u001B[38;5;124m\"\u001B[39m\n\u001B[1;32m    313\u001B[0m     failures \u001B[38;5;241m=\u001B[39m \u001B[38;5;124m\"\u001B[39m\u001B[38;5;130;01m\\n\u001B[39;00m\u001B[38;5;124m\"\u001B[39m\u001B[38;5;241m.\u001B[39mjoin(\n\u001B[1;32m    314\u001B[0m         template\u001B[38;5;241m.\u001B[39mformat(path\u001B[38;5;241m=\u001B[39mpath, error\u001B[38;5;241m=\u001B[39merror, traceback\u001B[38;5;241m=\u001B[39mtracebacks[path])\n\u001B[1;32m    315\u001B[0m         \u001B[38;5;28;01mfor\u001B[39;00m path, error \u001B[38;5;129;01min\u001B[39;00m failed_downloads\u001B[38;5;241m.\u001B[39mitems()\n\u001B[1;32m    316\u001B[0m     )\n\u001B[0;32m--> 317\u001B[0m     \u001B[38;5;28;01mraise\u001B[39;00m MlflowException(\n\u001B[1;32m    318\u001B[0m         message\u001B[38;5;241m=\u001B[39m(\n\u001B[1;32m    319\u001B[0m             \u001B[38;5;124m\"\u001B[39m\u001B[38;5;124mThe following failures occurred while downloading one or more\u001B[39m\u001B[38;5;124m\"\u001B[39m\n\u001B[1;32m    320\u001B[0m             \u001B[38;5;124mf\u001B[39m\u001B[38;5;124m\"\u001B[39m\u001B[38;5;124m artifacts from \u001B[39m\u001B[38;5;132;01m{\u001B[39;00m\u001B[38;5;28mself\u001B[39m\u001B[38;5;241m.\u001B[39martifact_uri\u001B[38;5;132;01m}\u001B[39;00m\u001B[38;5;124m:\u001B[39m\u001B[38;5;130;01m\\n\u001B[39;00m\u001B[38;5;132;01m{\u001B[39;00m_truncate_error(failures)\u001B[38;5;132;01m}\u001B[39;00m\u001B[38;5;124m\"\u001B[39m\n\u001B[1;32m    321\u001B[0m         )\n\u001B[1;32m    322\u001B[0m     )\n\u001B[1;32m    324\u001B[0m \u001B[38;5;28;01mreturn\u001B[39;00m os\u001B[38;5;241m.\u001B[39mpath\u001B[38;5;241m.\u001B[39mjoin(dst_path, artifact_path)\n",
      "\u001B[0;31mMlflowException\u001B[0m: The following failures occurred while downloading one or more artifacts from http://127.0.0.1:8080/api/2.0/mlflow-artifacts/artifacts/455314737741369698/a40bf7dbf9da4e5ba12a4ec42b77de53/artifacts:\n##### File iris_model #####\nAPI request to http://127.0.0.1:8080/api/2.0/mlflow-artifacts/artifacts/455314737741369698/a40bf7dbf9da4e5ba12a4ec42b77de53/artifacts/iris_model failed with exception HTTPConnectionPool(host='127.0.0.1', port=8080): Max retries exceeded with url: /api/2.0/mlflow-artifacts/artifacts/455314737741369698/a40bf7dbf9da4e5ba12a4ec42b77de53/artifacts/iris_model (Caused by ResponseError('too many 500 error responses'))"
     ]
    }
   ],
   "execution_count": 32
  },
  {
   "cell_type": "code",
   "execution_count": null,
   "metadata": {},
   "outputs": [
    {
     "name": "stdout",
     "output_type": "stream",
     "text": [
      "\n",
      "🧪 Resultados de predicción:\n",
      "Muestra 1: Clase predicha → 0\n",
      "Muestra 2: Clase predicha → 1\n",
      "Muestra 3: Clase predicha → 2\n"
     ]
    }
   ],
   "source": [
    "import pandas as pd\n",
    "import mlflow.pyfunc\n",
    "import argparse\n",
    "\n",
    "\n",
    "# Cargar datos\n",
    "data = pd.read_csv('/home/manuelcastiblan/academic/iris_data.csv')\n",
    "\n",
    "# Cargar modelo\n",
    "model = mlflow.pyfunc.load_model('mlflow-artifacts:/455314737741369698/a40bf7dbf9da4e5ba12a4ec42b77de53/artifacts/iris_model')\n",
    "\n",
    "# Hacer predicciones\n",
    "predictions = model.predict(data)\n",
    "\n",
    "# Mostrar resultados\n",
    "print(\"\\n🧪 Resultados de predicción:\")\n",
    "for i, pred in enumerate(predictions):\n",
    "    print(f\"Muestra {i+1}: Clase predicha → {pred}\")\n"
   ]
  }
 ],
 "metadata": {
  "language_info": {
   "name": "python"
  },
  "kernelspec": {
   "name": "python3",
   "language": "python",
   "display_name": "Python 3 (ipykernel)"
  }
 },
 "nbformat": 4,
 "nbformat_minor": 2
}
