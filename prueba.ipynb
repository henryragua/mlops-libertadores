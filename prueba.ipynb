{
 "cells": [
  {
   "cell_type": "code",
   "execution_count": 1,
   "metadata": {
    "gather": {
     "logged": 1744195741142
    }
   },
   "outputs": [],
   "source": [
    "# Import required libraries\n",
    "from azure.identity import DefaultAzureCredential\n",
    "from azure.identity import AzureCliCredential\n",
    "from azure.ai.ml import automl, Input, MLClient\n",
    "from azure.ai.ml.constants import AssetTypes\n",
    "from azure.ai.ml.automl import (\n",
    "    classification,\n",
    "    ClassificationPrimaryMetrics,\n",
    "    ClassificationModels,\n",
    ")"
   ]
  },
  {
   "cell_type": "code",
   "execution_count": null,
   "metadata": {
    "gather": {
     "logged": 1744195742231
    }
   },
   "outputs": [
    {
     "name": "stderr",
     "output_type": "stream",
     "text": [
      "Found the config file in: /config.json\n"
     ]
    }
   ],
   "source": [
    "from azure.identity import DefaultAzureCredential\n",
    "from azure.ai.ml import MLClient\n",
    "credential = DefaultAzureCredential()\n",
    "ml_client = None\n",
    "try:\n",
    "    ml_client = MLClient.from_config(credential)\n",
    "except Exception as ex:\n",
    "    print(ex)\n",
    "    # Enter details of your AzureML workspace\n",
    "    subscription_id = \"\"\n",
    "    resource_group = \"\"\n",
    "    workspace = \"workspacename\"\n",
    "    ml_client = MLClient(credential, subscription_id, resource_group, workspace)"
   ]
  },
  {
   "cell_type": "markdown",
   "metadata": {
    "nteract": {
     "transient": {
      "deleting": false
     }
    }
   },
   "source": [
    "## Mostrar Espacio de trabajo"
   ]
  },
  {
   "cell_type": "code",
   "execution_count": 3,
   "metadata": {
    "gather": {
     "logged": 1744195747579
    }
   },
   "outputs": [
    {
     "data": {
      "text/plain": [
       "{'Workspace': 'mltest',\n",
       " 'Subscription ID': '8215b16a-6902-4007-b308-5d34c61892dc',\n",
       " 'Resource Group': 'test_services',\n",
       " 'Location': 'eastus'}"
      ]
     },
     "execution_count": 3,
     "metadata": {},
     "output_type": "execute_result"
    }
   ],
   "source": [
    "workspace = ml_client.workspaces.get(name=ml_client.workspace_name)\n",
    "subscription_id = ml_client.connections._subscription_id\n",
    "resource_group = workspace.resource_group\n",
    "workspace_name = ml_client.workspace_name\n",
    "output = {}\n",
    "output[\"Workspace\"] = workspace_name\n",
    "output[\"Subscription ID\"] = subscription_id\n",
    "output[\"Resource Group\"] = resource_group\n",
    "output[\"Location\"] = workspace.location\n",
    "output"
   ]
  },
  {
   "cell_type": "code",
   "execution_count": 35,
   "metadata": {
    "gather": {
     "logged": 1744197138281
    }
   },
   "outputs": [],
   "source": [
    "# Create MLTables for training dataset\n",
    "my_training_data_input = Input(\n",
    "    type=AssetTypes.MLTABLE, path=\"./data/training-mltable-folder\"\n",
    ")"
   ]
  },
  {
   "cell_type": "markdown",
   "metadata": {
    "nteract": {
     "transient": {
      "deleting": false
     }
    }
   },
   "source": [
    "## Configuración del nombre del experimento"
   ]
  },
  {
   "cell_type": "code",
   "execution_count": 36,
   "metadata": {
    "gather": {
     "logged": 1744197140294
    }
   },
   "outputs": [],
   "source": [
    "# General job parameters\n",
    "compute_name = \"mecastib1\"\n",
    "max_trials = 5\n",
    "exp_name = \"automlv2-Titanic-classifier-experiment\""
   ]
  },
  {
   "cell_type": "code",
   "execution_count": 37,
   "metadata": {
    "gather": {
     "logged": 1744197141106
    }
   },
   "outputs": [],
   "source": [
    "# Create the AutoML classification job with the related factory-function.\n",
    "classification_job = automl.classification(\n",
    "    compute=compute_name,\n",
    "    experiment_name=exp_name,\n",
    "    training_data=my_training_data_input,\n",
    "    target_column_name=\"Survived\",\n",
    "    primary_metric=\"accuracy\",\n",
    "    enable_model_explainability=True,\n",
    "    tags={\"my_custom_tag\": \"My Titanic Automl Exp\"},\n",
    ")\n",
    "# Limits are all optional\n",
    "classification_job.set_limits(\n",
    "    timeout_minutes=600,\n",
    "    trial_timeout_minutes=20,\n",
    "    max_trials=max_trials,\n",
    "    # max_concurrent_trials = 4,\n",
    "    # max_cores_per_trial: -1,\n",
    "    enable_early_termination=True,\n",
    ")\n",
    "# Training properties are optional\n",
    "classification_job.set_training(\n",
    "    blocked_training_algorithms=[ClassificationModels.LOGISTIC_REGRESSION],\n",
    "    enable_onnx_compatible_models=True,\n",
    ")"
   ]
  },
  {
   "cell_type": "code",
   "execution_count": 38,
   "metadata": {
    "gather": {
     "logged": 1744197144201
    }
   },
   "outputs": [
    {
     "name": "stderr",
     "output_type": "stream",
     "text": [
      "\rUploading training-mltable-folder (0.06 MBs):   0%|          | 0/61623 [00:00<?, ?it/s]\rUploading training-mltable-folder (0.06 MBs): 100%|██████████| 61623/61623 [00:00<00:00, 2720089.19it/s]\n",
      "\n",
      "\n"
     ]
    },
    {
     "name": "stdout",
     "output_type": "stream",
     "text": [
      "Created job: compute: azureml:mecastib1\n",
      "creation_context:\n",
      "  created_at: '2025-04-09T11:12:23.701471+00:00'\n",
      "  created_by: Manuel Castiblanco\n",
      "  created_by_type: User\n",
      "display_name: ivory_spinach_c6zf8fd2b0\n",
      "experiment_name: automlv2-Titanic-classifier-experiment\n",
      "id: azureml:/subscriptions/8215b16a-6902-4007-b308-5d34c61892dc/resourceGroups/test_services/providers/Microsoft.MachineLearningServices/workspaces/mltest/jobs/ivory_spinach_c6zf8fd2b0\n",
      "limits:\n",
      "  enable_early_termination: true\n",
      "  max_concurrent_trials: 1\n",
      "  max_cores_per_trial: -1\n",
      "  max_nodes: 1\n",
      "  max_trials: 5\n",
      "  timeout_minutes: 600\n",
      "  trial_timeout_minutes: 20\n",
      "log_verbosity: info\n",
      "name: ivory_spinach_c6zf8fd2b0\n",
      "outputs: {}\n",
      "primary_metric: accuracy\n",
      "properties: {}\n",
      "queue_settings:\n",
      "  job_tier: 'null'\n",
      "resources:\n",
      "  instance_count: 1\n",
      "  shm_size: 2g\n",
      "services:\n",
      "  Studio:\n",
      "    endpoint: https://ml.azure.com/runs/ivory_spinach_c6zf8fd2b0?wsid=/subscriptions/8215b16a-6902-4007-b308-5d34c61892dc/resourcegroups/test_services/workspaces/mltest&tid=07efc3c4-48d8-40d2-bdf2-eeef2b09fe44\n",
      "  Tracking:\n",
      "    endpoint: azureml://eastus.api.azureml.ms/mlflow/v1.0/subscriptions/8215b16a-6902-4007-b308-5d34c61892dc/resourceGroups/test_services/providers/Microsoft.MachineLearningServices/workspaces/mltest?\n",
      "status: NotStarted\n",
      "tags:\n",
      "  my_custom_tag: My Titanic Automl Exp\n",
      "target_column_name: Survived\n",
      "task: classification\n",
      "training:\n",
      "  blocked_training_algorithms:\n",
      "  - logistic_regression\n",
      "  enable_dnn_training: false\n",
      "  enable_model_explainability: true\n",
      "  enable_onnx_compatible_models: true\n",
      "  enable_stack_ensemble: true\n",
      "  enable_vote_ensemble: true\n",
      "  ensemble_model_download_timeout_minutes: 5\n",
      "  training_mode: auto\n",
      "training_data:\n",
      "  path: azureml://datastores/workspaceblobstore/paths/LocalUpload/6b5e789fd48ca698934ce61c1eceb56a/training-mltable-folder\n",
      "  type: mltable\n",
      "type: automl\n",
      "\n"
     ]
    }
   ],
   "source": [
    "returned_job = ml_client.jobs.create_or_update(classification_job)\n",
    "print(f\"Created job: {returned_job}\")\n"
   ]
  },
  {
   "cell_type": "code",
   "execution_count": 39,
   "metadata": {
    "gather": {
     "logged": 1744197828494
    }
   },
   "outputs": [
    {
     "name": "stdout",
     "output_type": "stream",
     "text": [
      "RunId: ivory_spinach_c6zf8fd2b0\n",
      "Web View: https://ml.azure.com/runs/ivory_spinach_c6zf8fd2b0?wsid=/subscriptions/8215b16a-6902-4007-b308-5d34c61892dc/resourcegroups/test_services/workspaces/mltest\n",
      "\n",
      "Execution Summary\n",
      "=================\n",
      "RunId: ivory_spinach_c6zf8fd2b0\n",
      "Web View: https://ml.azure.com/runs/ivory_spinach_c6zf8fd2b0?wsid=/subscriptions/8215b16a-6902-4007-b308-5d34c61892dc/resourcegroups/test_services/workspaces/mltest\n",
      "\n"
     ]
    }
   ],
   "source": [
    "ml_client.jobs.stream(returned_job.name)"
   ]
  },
  {
   "cell_type": "code",
   "execution_count": 40,
   "metadata": {
    "gather": {
     "logged": 1744197828883
    }
   },
   "outputs": [
    {
     "name": "stdout",
     "output_type": "stream",
     "text": [
      "ivory_spinach_c6zf8fd2b0\n"
     ]
    }
   ],
   "source": [
    "# Get a URL for the status of the job\n",
    "returned_job.services[\"Studio\"].endpoint\n",
    "print(returned_job.name)"
   ]
  },
  {
   "cell_type": "code",
   "execution_count": 41,
   "metadata": {
    "gather": {
     "logged": 1744197882734
    }
   },
   "outputs": [
    {
     "name": "stdout",
     "output_type": "stream",
     "text": [
      "azureml://eastus.api.azureml.ms/mlflow/v1.0/subscriptions/8215b16a-6902-4007-b308-5d34c61892dc/resourceGroups/test_services/providers/Microsoft.MachineLearningServices/workspaces/mltest\n",
      "\n",
      "Current tracking uri: azureml://eastus.api.azureml.ms/mlflow/v1.0/subscriptions/8215b16a-6902-4007-b308-5d34c61892dc/resourceGroups/test_services/providers/Microsoft.MachineLearningServices/workspaces/mltest\n"
     ]
    }
   ],
   "source": [
    "import mlflow\n",
    "# Obtain the tracking URL from MLClient\n",
    "MLFLOW_TRACKING_URI = ml_client.workspaces.get(\n",
    "    name=ml_client.workspace_name\n",
    ").mlflow_tracking_uri\n",
    "print(MLFLOW_TRACKING_URI)\n",
    "# Set the MLFLOW TRACKING URI\n",
    "mlflow.set_tracking_uri(MLFLOW_TRACKING_URI)\n",
    "print(\"\\nCurrent tracking uri: {}\".format(mlflow.get_tracking_uri()))"
   ]
  },
  {
   "cell_type": "code",
   "execution_count": 42,
   "metadata": {
    "gather": {
     "logged": 1744197887505
    }
   },
   "outputs": [
    {
     "name": "stderr",
     "output_type": "stream",
     "text": [
      "/anaconda/envs/azureml_py310_sdkv2/lib/python3.10/site-packages/azureml/mlflow/_protos/aml_service_pb2.py:10: UserWarning: google.protobuf.service module is deprecated. RPC implementations should provide code generator plugins which generate code specific to the RPC implementation. service.py will be removed in Jan 2025\n",
      "  from google.protobuf import service as _service\n"
     ]
    },
    {
     "name": "stdout",
     "output_type": "stream",
     "text": [
      "Parent Run: \n",
      "<Run: data=<RunData: metrics={'AUC_macro': 0.8645401412244574,\n",
      " 'AUC_micro': 0.8760167487270125,\n",
      " 'AUC_weighted': 0.8645401412244574,\n",
      " 'accuracy': 0.8193008739076154,\n",
      " 'average_precision_score_macro': 0.8557024916458076,\n",
      " 'average_precision_score_micro': 0.8627919256593868,\n",
      " 'average_precision_score_weighted': 0.8669185465969991,\n",
      " 'balanced_accuracy': 0.7994686963353901,\n",
      " 'f1_score_macro': 0.8021751643949143,\n",
      " 'f1_score_micro': 0.8193008739076154,\n",
      " 'f1_score_weighted': 0.8169519134697142,\n",
      " 'log_loss': 0.4368755522620926,\n",
      " 'matthews_correlation': 0.6140198582743006,\n",
      " 'norm_macro_recall': 0.59893739267078,\n",
      " 'precision_score_macro': 0.8153219506029398,\n",
      " 'precision_score_micro': 0.8193008739076154,\n",
      " 'precision_score_weighted': 0.8240178808074334,\n",
      " 'recall_score_macro': 0.7994686963353901,\n",
      " 'recall_score_micro': 0.8193008739076154,\n",
      " 'recall_score_weighted': 0.8193008739076154,\n",
      " 'weighted_accuracy': 0.8361920807411917}, params={}, tags={'automl_best_child_run_id': 'ivory_spinach_c6zf8fd2b0_4',\n",
      " 'fit_time_000': '0.0799936;0.47903450000000003;0.2670052;4;6',\n",
      " 'iteration_000': '0;1;2;3;4',\n",
      " 'mlflow.rootRunId': 'ivory_spinach_c6zf8fd2b0',\n",
      " 'mlflow.runName': 'ivory_spinach_c6zf8fd2b0',\n",
      " 'mlflow.user': 'Manuel Castiblanco',\n",
      " 'model_explain_run': 'best_run',\n",
      " 'my_custom_tag': 'My Titanic Automl Exp',\n",
      " 'pipeline_id_000': '5dfac790c5c209f98a1da2dc1c7fb76f0397324f;c7af0367625be6ac5c2fecbfc72ed444cb7a2111;799d2168db11fc19b9e1c6c1df62f8981ad39fe9;__AutoML_Ensemble__;__AutoML_Stack_Ensemble__',\n",
      " 'predicted_cost_000': '0;0;0.5;0;0',\n",
      " 'run_algorithm_000': 'LightGBM;XGBoostClassifier;ExtremeRandomTrees;VotingEnsemble;StackEnsemble',\n",
      " 'run_preprocessor_000': 'MaxAbsScaler;MaxAbsScaler;MaxAbsScaler;;',\n",
      " 'score_000': '0.8114731585518102;0.7755430711610487;0.7867665418227217;0.8170661672908865;0.8193008739076154',\n",
      " 'training_percent_000': '100;100;100;100;100'}>, info=<RunInfo: artifact_uri='azureml://eastus.api.azureml.ms/mlflow/v2.0/subscriptions/8215b16a-6902-4007-b308-5d34c61892dc/resourceGroups/test_services/providers/Microsoft.MachineLearningServices/workspaces/mltest/experiments/58f18d92-29a7-4e5a-a6ac-d074c324c600/runs/ivory_spinach_c6zf8fd2b0/artifacts', end_time=1744197809977, experiment_id='58f18d92-29a7-4e5a-a6ac-d074c324c600', lifecycle_stage='active', run_id='ivory_spinach_c6zf8fd2b0', run_name='ivory_spinach_c6zf8fd2b0', run_uuid='ivory_spinach_c6zf8fd2b0', start_time=1744197159199, status='FINISHED', user_id='319926bb-63da-4f50-b2e2-5d665b2500d8'>, inputs=<RunInputs: dataset_inputs=[]>>\n"
     ]
    }
   ],
   "source": [
    "from mlflow.tracking.client import MlflowClient\n",
    "# Initialize MLFlow client\n",
    "mlflow_client = MlflowClient()\n",
    "job_name = returned_job.name\n",
    "# Example if providing an specific Job name/ID\n",
    "# job_name = \"b4e95546-0aa1-448e-9ad6-002e3207b4fc\"\n",
    "# Get the parent run\n",
    "mlflow_parent_run = mlflow_client.get_run(job_name)\n",
    "print(\"Parent Run: \")\n",
    "print(mlflow_parent_run)"
   ]
  },
  {
   "cell_type": "code",
   "execution_count": 43,
   "metadata": {
    "gather": {
     "logged": 1744197908063
    }
   },
   "outputs": [
    {
     "name": "stdout",
     "output_type": "stream",
     "text": [
      "{'my_custom_tag': 'My Titanic Automl Exp', 'model_explain_run': 'best_run', 'pipeline_id_000': '5dfac790c5c209f98a1da2dc1c7fb76f0397324f;c7af0367625be6ac5c2fecbfc72ed444cb7a2111;799d2168db11fc19b9e1c6c1df62f8981ad39fe9;__AutoML_Ensemble__;__AutoML_Stack_Ensemble__', 'score_000': '0.8114731585518102;0.7755430711610487;0.7867665418227217;0.8170661672908865;0.8193008739076154', 'predicted_cost_000': '0;0;0.5;0;0', 'fit_time_000': '0.0799936;0.47903450000000003;0.2670052;4;6', 'training_percent_000': '100;100;100;100;100', 'iteration_000': '0;1;2;3;4', 'run_preprocessor_000': 'MaxAbsScaler;MaxAbsScaler;MaxAbsScaler;;', 'run_algorithm_000': 'LightGBM;XGBoostClassifier;ExtremeRandomTrees;VotingEnsemble;StackEnsemble', 'automl_best_child_run_id': 'ivory_spinach_c6zf8fd2b0_4', 'mlflow.rootRunId': 'ivory_spinach_c6zf8fd2b0', 'mlflow.runName': 'ivory_spinach_c6zf8fd2b0', 'mlflow.user': 'Manuel Castiblanco'}\n"
     ]
    }
   ],
   "source": [
    "# Print parent run tags. 'automl_best_child_run_id' tag should be there.\n",
    "print(mlflow_parent_run.data.tags)"
   ]
  },
  {
   "metadata": {},
   "cell_type": "code",
   "execution_count": 44,
   "source": [
    "# Get the best model's child run\n",
    "best_child_run_id = mlflow_parent_run.data.tags[\"automl_best_child_run_id\"]\n",
    "print(\"Found best child run id: \", best_child_run_id)\n",
    "best_run = mlflow_client.get_run(best_child_run_id)\n",
    "print(\"Best child run: \")\n",
    "print(best_run)"
   ],
   "outputs": []
  },
  {
   "metadata": {},
   "cell_type": "code",
   "outputs": [
    {
     "data": {
      "text/plain": [
       "{'norm_macro_recall': 0.59893739267078,\n",
       " 'f1_score_weighted': 0.8169519134697142,\n",
       " 'weighted_accuracy': 0.8361920807411917,\n",
       " 'AUC_macro': 0.8645401412244574,\n",
       " 'matthews_correlation': 0.6140198582743006,\n",
       " 'recall_score_macro': 0.7994686963353901,\n",
       " 'AUC_micro': 0.8760167487270125,\n",
       " 'recall_score_weighted': 0.8193008739076154,\n",
       " 'log_loss': 0.4368755522620926,\n",
       " 'f1_score_micro': 0.8193008739076154,\n",
       " 'average_precision_score_micro': 0.8627919256593868,\n",
       " 'recall_score_micro': 0.8193008739076154,\n",
       " 'average_precision_score_macro': 0.8557024916458076,\n",
       " 'AUC_weighted': 0.8645401412244574,\n",
       " 'f1_score_macro': 0.8021751643949143,\n",
       " 'balanced_accuracy': 0.7994686963353901,\n",
       " 'average_precision_score_weighted': 0.8669185465969991,\n",
       " 'precision_score_weighted': 0.8240178808074334,\n",
       " 'accuracy': 0.8193008739076154,\n",
       " 'precision_score_macro': 0.8153219506029398,\n",
       " 'precision_score_micro': 0.8193008739076154}"
      ]
     },
     "execution_count": 45,
     "metadata": {},
     "output_type": "execute_result"
    }
   ],
   "execution_count": 45,
   "source": "best_run.data.metrics\n"
  },
  {
   "cell_type": "code",
   "execution_count": 46,
   "metadata": {
    "gather": {
     "logged": 1744197952144
    }
   },
   "outputs": [
    {
     "name": "stderr",
     "output_type": "stream",
     "text": [
      "Downloading artifacts:  94%|█████████▍| 17/18 [00:00<00:00, 16.12it/s]"
     ]
    },
    {
     "name": "stdout",
     "output_type": "stream",
     "text": [
      "Artifacts downloaded in: /mnt/batch/tasks/shared/LS_root/mounts/clusters/mecastib1/code/Users/mecastib/artifact_downloads/outputs\n",
      "Artifacts: ['conda_env_v_1_0_0.yml', 'engineered_feature_names.json', 'env_dependencies.json', 'featurization_summary.json', 'generated_code', 'internal_cross_validated_models.pkl', 'mlflow-model', 'model.pkl', 'pipeline_graph.json', 'run_id.txt', 'scoring_file_pbi_v_1_0_0.py', 'scoring_file_v_1_0_0.py', 'scoring_file_v_2_0_0.py']\n"
     ]
    },
    {
     "data": {
      "text/plain": [
       "['conda.yaml', 'MLmodel', 'model.pkl', 'python_env.yaml', 'requirements.txt']"
      ]
     },
     "execution_count": 46,
     "metadata": {},
     "output_type": "execute_result"
    }
   ],
   "source": [
    "import os\n",
    "# Create local folder\n",
    "local_dir = \"./artifact_downloads\"\n",
    "if not os.path.exists(local_dir):\n",
    "    os.mkdir(local_dir)\n",
    "# Download run's artifacts/outputs\n",
    "local_path = mlflow_client.download_artifacts(\n",
    "    best_run.info.run_id, \"outputs\", local_dir\n",
    ")\n",
    "print(\"Artifacts downloaded in: {}\".format(local_path))\n",
    "print(\"Artifacts: {}\".format(os.listdir(local_path)))\n",
    "# Show the contents of the MLFlow model folder\n",
    "os.listdir(\"./artifact_downloads/outputs/mlflow-model\")"
   ]
  },
  {
   "cell_type": "code",
   "execution_count": 68,
   "metadata": {
    "gather": {
     "logged": 1744199453289
    }
   },
   "outputs": [
    {
     "data": {
      "text/plain": [
       "'/subscriptions/8215b16a-6902-4007-b308-5d34c61892dc/resourceGroups/test_services/providers/Microsoft.MachineLearningServices/workspaces/mltest/models/titanic-model-v2/versions/4'"
      ]
     },
     "execution_count": 68,
     "metadata": {},
     "output_type": "execute_result"
    }
   ],
   "source": [
    "# import required libraries\n",
    "from azure.ai.ml import MLClient\n",
    "from azure.ai.ml.entities import (\n",
    "    ManagedOnlineEndpoint,\n",
    "    ManagedOnlineDeployment,\n",
    "    Model,\n",
    "    Environment,\n",
    "    CodeConfiguration,\n",
    "    ProbeSettings,\n",
    ")\n",
    "from azure.ai.ml.constants import ModelType\n",
    "model_name = \"titanic-model-v2\"\n",
    "model = Model(\n",
    "    path=f\"azureml://jobs/{best_run.info.run_id}/outputs/artifacts/outputs/model.pkl\",\n",
    "    name=model_name,\n",
    "    description=\"my sample titanic mlflow model\",\n",
    ")\n",
    "# for downloaded file\n",
    "# model = Model(path=\"artifact_downloads/outputs/model.pkl\", name=model_name)\n",
    "registered_model = ml_client.models.create_or_update(model)\n",
    "registered_model.id\n"
   ]
  },
  {
   "cell_type": "code",
   "execution_count": 79,
   "metadata": {
    "gather": {
     "logged": 1744199753472
    }
   },
   "outputs": [
    {
     "data": {
      "text/plain": [
       "<azure.core.polling._poller.LROPoller at 0x7f5195f203d0>"
      ]
     },
     "execution_count": 79,
     "metadata": {},
     "output_type": "execute_result"
    }
   ],
   "source": [
    "# Creating a unique endpoint name with current datetime to avoid conflicts\n",
    "import datetime\n",
    "online_endpoint_name = \"titanic-dev-\" + datetime.datetime.now().strftime(\"%m%d%H%M%f\")\n",
    "# create an online endpoint\n",
    "endpoint = ManagedOnlineEndpoint(\n",
    "    name=online_endpoint_name,\n",
    "    description=\"this is a sample online endpoint for titanic mlflow model\",\n",
    "    auth_mode=\"key\",\n",
    "    tags={\"foo\": \"bar\"},\n",
    ")\n",
    "ml_client.begin_create_or_update(endpoint)"
   ]
  },
  {
   "cell_type": "code",
   "execution_count": 81,
   "metadata": {
    "gather": {
     "logged": 1744202051447
    }
   },
   "outputs": [
    {
     "ename": "HttpResponseError",
     "evalue": "(SubscriptionNotRegistered) Resource provider [N/A] isn't registered with Subscription [N/A]. Please see troubleshooting guide, available here: https://aka.ms/register-resource-provider\nCode: SubscriptionNotRegistered\nMessage: Resource provider [N/A] isn't registered with Subscription [N/A]. Please see troubleshooting guide, available here: https://aka.ms/register-resource-provider",
     "output_type": "error",
     "traceback": [
      "\u001B[0;31m---------------------------------------------------------------------------\u001B[0m",
      "\u001B[0;31mOperationFailed\u001B[0m                           Traceback (most recent call last)",
      "File \u001B[0;32m/anaconda/envs/azureml_py310_sdkv2/lib/python3.10/site-packages/azure/core/polling/base_polling.py:757\u001B[0m, in \u001B[0;36mLROBasePolling.run\u001B[0;34m(self)\u001B[0m\n\u001B[1;32m    756\u001B[0m \u001B[38;5;28;01mtry\u001B[39;00m:\n\u001B[0;32m--> 757\u001B[0m     \u001B[38;5;28;43mself\u001B[39;49m\u001B[38;5;241;43m.\u001B[39;49m\u001B[43m_poll\u001B[49m\u001B[43m(\u001B[49m\u001B[43m)\u001B[49m\n\u001B[1;32m    759\u001B[0m \u001B[38;5;28;01mexcept\u001B[39;00m BadStatus \u001B[38;5;28;01mas\u001B[39;00m err:\n",
      "File \u001B[0;32m/anaconda/envs/azureml_py310_sdkv2/lib/python3.10/site-packages/azure/core/polling/base_polling.py:789\u001B[0m, in \u001B[0;36mLROBasePolling._poll\u001B[0;34m(self)\u001B[0m\n\u001B[1;32m    788\u001B[0m \u001B[38;5;28;01mif\u001B[39;00m _failed(\u001B[38;5;28mself\u001B[39m\u001B[38;5;241m.\u001B[39mstatus()):\n\u001B[0;32m--> 789\u001B[0m     \u001B[38;5;28;01mraise\u001B[39;00m OperationFailed(\u001B[38;5;124m\"\u001B[39m\u001B[38;5;124mOperation failed or canceled\u001B[39m\u001B[38;5;124m\"\u001B[39m)\n\u001B[1;32m    791\u001B[0m final_get_url \u001B[38;5;241m=\u001B[39m \u001B[38;5;28mself\u001B[39m\u001B[38;5;241m.\u001B[39m_operation\u001B[38;5;241m.\u001B[39mget_final_get_url(\u001B[38;5;28mself\u001B[39m\u001B[38;5;241m.\u001B[39m_pipeline_response)\n",
      "\u001B[0;31mOperationFailed\u001B[0m: Operation failed or canceled",
      "\nThe above exception was the direct cause of the following exception:\n",
      "\u001B[0;31mHttpResponseError\u001B[0m                         Traceback (most recent call last)",
      "Cell \u001B[0;32mIn[81], line 12\u001B[0m\n\u001B[1;32m      4\u001B[0m endpoint_name \u001B[38;5;241m=\u001B[39m \u001B[38;5;124m\"\u001B[39m\u001B[38;5;124mtitanic-endpoint-\u001B[39m\u001B[38;5;124m\"\u001B[39m \u001B[38;5;241m+\u001B[39m uuid\u001B[38;5;241m.\u001B[39muuid4()\u001B[38;5;241m.\u001B[39mhex[:\u001B[38;5;241m6\u001B[39m]\n\u001B[1;32m      6\u001B[0m endpoint \u001B[38;5;241m=\u001B[39m ManagedOnlineEndpoint(\n\u001B[1;32m      7\u001B[0m     name\u001B[38;5;241m=\u001B[39mendpoint_name,\n\u001B[1;32m      8\u001B[0m     description\u001B[38;5;241m=\u001B[39m\u001B[38;5;124m\"\u001B[39m\u001B[38;5;124mClean endpoint for Titanic AutoML model\u001B[39m\u001B[38;5;124m\"\u001B[39m,\n\u001B[1;32m      9\u001B[0m     auth_mode\u001B[38;5;241m=\u001B[39m\u001B[38;5;124m\"\u001B[39m\u001B[38;5;124mkey\u001B[39m\u001B[38;5;124m\"\u001B[39m\n\u001B[1;32m     10\u001B[0m )\n\u001B[0;32m---> 12\u001B[0m \u001B[43mml_client\u001B[49m\u001B[38;5;241;43m.\u001B[39;49m\u001B[43mbegin_create_or_update\u001B[49m\u001B[43m(\u001B[49m\u001B[43mendpoint\u001B[49m\u001B[43m)\u001B[49m\u001B[38;5;241;43m.\u001B[39;49m\u001B[43mresult\u001B[49m\u001B[43m(\u001B[49m\u001B[43m)\u001B[49m\n\u001B[1;32m     13\u001B[0m \u001B[38;5;28mprint\u001B[39m(\u001B[38;5;124mf\u001B[39m\u001B[38;5;124m\"\u001B[39m\u001B[38;5;124m✅ Endpoint creado: \u001B[39m\u001B[38;5;132;01m{\u001B[39;00mendpoint_name\u001B[38;5;132;01m}\u001B[39;00m\u001B[38;5;124m\"\u001B[39m)\n",
      "File \u001B[0;32m/anaconda/envs/azureml_py310_sdkv2/lib/python3.10/site-packages/azure/core/polling/_poller.py:251\u001B[0m, in \u001B[0;36mLROPoller.result\u001B[0;34m(self, timeout)\u001B[0m\n\u001B[1;32m    242\u001B[0m \u001B[38;5;28;01mdef\u001B[39;00m \u001B[38;5;21mresult\u001B[39m(\u001B[38;5;28mself\u001B[39m, timeout: Optional[\u001B[38;5;28mfloat\u001B[39m] \u001B[38;5;241m=\u001B[39m \u001B[38;5;28;01mNone\u001B[39;00m) \u001B[38;5;241m-\u001B[39m\u001B[38;5;241m>\u001B[39m PollingReturnType_co:\n\u001B[1;32m    243\u001B[0m \u001B[38;5;250m    \u001B[39m\u001B[38;5;124;03m\"\"\"Return the result of the long running operation, or\u001B[39;00m\n\u001B[1;32m    244\u001B[0m \u001B[38;5;124;03m    the result available after the specified timeout.\u001B[39;00m\n\u001B[1;32m    245\u001B[0m \n\u001B[0;32m   (...)\u001B[0m\n\u001B[1;32m    249\u001B[0m \u001B[38;5;124;03m    :raises ~azure.core.exceptions.HttpResponseError: Server problem with the query.\u001B[39;00m\n\u001B[1;32m    250\u001B[0m \u001B[38;5;124;03m    \"\"\"\u001B[39;00m\n\u001B[0;32m--> 251\u001B[0m     \u001B[38;5;28;43mself\u001B[39;49m\u001B[38;5;241;43m.\u001B[39;49m\u001B[43mwait\u001B[49m\u001B[43m(\u001B[49m\u001B[43mtimeout\u001B[49m\u001B[43m)\u001B[49m\n\u001B[1;32m    252\u001B[0m     \u001B[38;5;28;01mreturn\u001B[39;00m \u001B[38;5;28mself\u001B[39m\u001B[38;5;241m.\u001B[39m_polling_method\u001B[38;5;241m.\u001B[39mresource()\n",
      "File \u001B[0;32m/anaconda/envs/azureml_py310_sdkv2/lib/python3.10/site-packages/azure/core/tracing/decorator.py:94\u001B[0m, in \u001B[0;36mdistributed_trace.<locals>.decorator.<locals>.wrapper_use_tracer\u001B[0;34m(*args, **kwargs)\u001B[0m\n\u001B[1;32m     92\u001B[0m span_impl_type \u001B[38;5;241m=\u001B[39m settings\u001B[38;5;241m.\u001B[39mtracing_implementation()\n\u001B[1;32m     93\u001B[0m \u001B[38;5;28;01mif\u001B[39;00m span_impl_type \u001B[38;5;129;01mis\u001B[39;00m \u001B[38;5;28;01mNone\u001B[39;00m:\n\u001B[0;32m---> 94\u001B[0m     \u001B[38;5;28;01mreturn\u001B[39;00m \u001B[43mfunc\u001B[49m\u001B[43m(\u001B[49m\u001B[38;5;241;43m*\u001B[39;49m\u001B[43margs\u001B[49m\u001B[43m,\u001B[49m\u001B[43m \u001B[49m\u001B[38;5;241;43m*\u001B[39;49m\u001B[38;5;241;43m*\u001B[39;49m\u001B[43mkwargs\u001B[49m\u001B[43m)\u001B[49m\n\u001B[1;32m     96\u001B[0m \u001B[38;5;66;03m# Merge span is parameter is set, but only if no explicit parent are passed\u001B[39;00m\n\u001B[1;32m     97\u001B[0m \u001B[38;5;28;01mif\u001B[39;00m merge_span \u001B[38;5;129;01mand\u001B[39;00m \u001B[38;5;129;01mnot\u001B[39;00m passed_in_parent:\n",
      "File \u001B[0;32m/anaconda/envs/azureml_py310_sdkv2/lib/python3.10/site-packages/azure/core/polling/_poller.py:270\u001B[0m, in \u001B[0;36mLROPoller.wait\u001B[0;34m(self, timeout)\u001B[0m\n\u001B[1;32m    266\u001B[0m \u001B[38;5;28mself\u001B[39m\u001B[38;5;241m.\u001B[39m_thread\u001B[38;5;241m.\u001B[39mjoin(timeout\u001B[38;5;241m=\u001B[39mtimeout)\n\u001B[1;32m    267\u001B[0m \u001B[38;5;28;01mtry\u001B[39;00m:\n\u001B[1;32m    268\u001B[0m     \u001B[38;5;66;03m# Let's handle possible None in forgiveness here\u001B[39;00m\n\u001B[1;32m    269\u001B[0m     \u001B[38;5;66;03m# https://github.com/python/mypy/issues/8165\u001B[39;00m\n\u001B[0;32m--> 270\u001B[0m     \u001B[38;5;28;01mraise\u001B[39;00m \u001B[38;5;28mself\u001B[39m\u001B[38;5;241m.\u001B[39m_exception  \u001B[38;5;66;03m# type: ignore\u001B[39;00m\n\u001B[1;32m    271\u001B[0m \u001B[38;5;28;01mexcept\u001B[39;00m \u001B[38;5;167;01mTypeError\u001B[39;00m:  \u001B[38;5;66;03m# Was None\u001B[39;00m\n\u001B[1;32m    272\u001B[0m     \u001B[38;5;28;01mpass\u001B[39;00m\n",
      "File \u001B[0;32m/anaconda/envs/azureml_py310_sdkv2/lib/python3.10/site-packages/azure/core/polling/_poller.py:185\u001B[0m, in \u001B[0;36mLROPoller._start\u001B[0;34m(self)\u001B[0m\n\u001B[1;32m    181\u001B[0m \u001B[38;5;250m\u001B[39m\u001B[38;5;124;03m\"\"\"Start the long running operation.\u001B[39;00m\n\u001B[1;32m    182\u001B[0m \u001B[38;5;124;03mOn completion, runs any callbacks.\u001B[39;00m\n\u001B[1;32m    183\u001B[0m \u001B[38;5;124;03m\"\"\"\u001B[39;00m\n\u001B[1;32m    184\u001B[0m \u001B[38;5;28;01mtry\u001B[39;00m:\n\u001B[0;32m--> 185\u001B[0m     \u001B[38;5;28;43mself\u001B[39;49m\u001B[38;5;241;43m.\u001B[39;49m\u001B[43m_polling_method\u001B[49m\u001B[38;5;241;43m.\u001B[39;49m\u001B[43mrun\u001B[49m\u001B[43m(\u001B[49m\u001B[43m)\u001B[49m\n\u001B[1;32m    186\u001B[0m \u001B[38;5;28;01mexcept\u001B[39;00m AzureError \u001B[38;5;28;01mas\u001B[39;00m error:\n\u001B[1;32m    187\u001B[0m     \u001B[38;5;28;01mif\u001B[39;00m \u001B[38;5;129;01mnot\u001B[39;00m error\u001B[38;5;241m.\u001B[39mcontinuation_token:\n",
      "File \u001B[0;32m/anaconda/envs/azureml_py310_sdkv2/lib/python3.10/site-packages/azure/core/polling/base_polling.py:772\u001B[0m, in \u001B[0;36mLROBasePolling.run\u001B[0;34m(self)\u001B[0m\n\u001B[1;32m    765\u001B[0m     \u001B[38;5;28;01mraise\u001B[39;00m HttpResponseError(\n\u001B[1;32m    766\u001B[0m         response\u001B[38;5;241m=\u001B[39m\u001B[38;5;28mself\u001B[39m\u001B[38;5;241m.\u001B[39m_pipeline_response\u001B[38;5;241m.\u001B[39mhttp_response,\n\u001B[1;32m    767\u001B[0m         message\u001B[38;5;241m=\u001B[39m\u001B[38;5;28mstr\u001B[39m(err),\n\u001B[1;32m    768\u001B[0m         error\u001B[38;5;241m=\u001B[39merr,\n\u001B[1;32m    769\u001B[0m     ) \u001B[38;5;28;01mfrom\u001B[39;00m \u001B[38;5;21;01merr\u001B[39;00m\n\u001B[1;32m    771\u001B[0m \u001B[38;5;28;01mexcept\u001B[39;00m OperationFailed \u001B[38;5;28;01mas\u001B[39;00m err:\n\u001B[0;32m--> 772\u001B[0m     \u001B[38;5;28;01mraise\u001B[39;00m HttpResponseError(response\u001B[38;5;241m=\u001B[39m\u001B[38;5;28mself\u001B[39m\u001B[38;5;241m.\u001B[39m_pipeline_response\u001B[38;5;241m.\u001B[39mhttp_response, error\u001B[38;5;241m=\u001B[39merr) \u001B[38;5;28;01mfrom\u001B[39;00m \u001B[38;5;21;01merr\u001B[39;00m\n",
      "\u001B[0;31mHttpResponseError\u001B[0m: (SubscriptionNotRegistered) Resource provider [N/A] isn't registered with Subscription [N/A]. Please see troubleshooting guide, available here: https://aka.ms/register-resource-provider\nCode: SubscriptionNotRegistered\nMessage: Resource provider [N/A] isn't registered with Subscription [N/A]. Please see troubleshooting guide, available here: https://aka.ms/register-resource-provider"
     ]
    }
   ],
   "source": [
    "from azure.ai.ml.entities import ManagedOnlineEndpoint\n",
    "import uuid\n",
    "\n",
    "endpoint_name = \"titanic-endpoint-\" + uuid.uuid4().hex[:6]\n",
    "\n",
    "endpoint = ManagedOnlineEndpoint(\n",
    "    name=endpoint_name,\n",
    "    description=\"Clean endpoint for Titanic AutoML model\",\n",
    "    auth_mode=\"key\"\n",
    ")\n",
    "\n",
    "ml_client.begin_create_or_update(endpoint).result()\n",
    "print(f\"✅ Endpoint creado: {endpoint_name}\")\n"
   ]
  },
  {
   "cell_type": "code",
   "execution_count": 75,
   "metadata": {
    "gather": {
     "logged": 1744199607057
    }
   },
   "outputs": [],
   "source": [
    "env = Environment(\n",
    "    name=\"automl-titanic-tabular-env\",\n",
    "    description=\"environment for automl inference\",\n",
    "    image=\"mcr.microsoft.com/azureml/openmpi3.1.2-ubuntu18.04:20210727.v1\",\n",
    "    conda_file=\"artifact_downloads/outputs/conda_env_v_1_0_0.yml\",\n",
    ")"
   ]
  },
  {
   "cell_type": "code",
   "execution_count": 76,
   "metadata": {
    "gather": {
     "logged": 1744199608010
    }
   },
   "outputs": [],
   "source": [
    "code_configuration = CodeConfiguration(\n",
    "    code=\"artifact_downloads/outputs/\", scoring_script=\"scoring_file_v_2_0_0.py\"\n",
    ")"
   ]
  },
  {
   "cell_type": "code",
   "execution_count": 77,
   "metadata": {
    "gather": {
     "logged": 1744199608882
    }
   },
   "outputs": [],
   "source": [
    "deployment = ManagedOnlineDeployment(\n",
    "    name=\"titanic-deploy\",\n",
    "    endpoint_name=online_endpoint_name,\n",
    "    model=registered_model.id,\n",
    "    environment=env,\n",
    "    code_configuration=code_configuration,\n",
    "    instance_type=\"Standard_DS2_V2\",\n",
    "    instance_count=1,\n",
    ")"
   ]
  },
  {
   "cell_type": "code",
   "execution_count": 78,
   "metadata": {
    "gather": {
     "logged": 1744199614135
    }
   },
   "outputs": [
    {
     "name": "stderr",
     "output_type": "stream",
     "text": [
      "Instance type Standard_DS2_V2 may be too small for compute resources. Minimum recommended compute SKU is Standard_DS3_v2 for general purpose endpoints. Learn more about SKUs here: https://learn.microsoft.com/en-us/azure/machine-learning/referencemanaged-online-endpoints-vm-sku-list\n",
      "Check: endpoint titanic-04091153557528 exists\n"
     ]
    },
    {
     "ename": "HttpResponseError",
     "evalue": "(BadRequest) The request is invalid.\nCode: BadRequest\nMessage: The request is invalid.\nException Details:\t(InferencingClientCallFailed) {\"error\":{\"code\":\"Validation\",\"message\":\"{\\\"errors\\\":{\\\"\\\":[\\\"This endpoint has not been created successfully or is in deleting provisioning state. Please recreate endpoint and then try again to create deployment.\\\"]},\\\"type\\\":\\\"https://tools.ietf.org/html/rfc9110#section-15.5.1\\\",\\\"title\\\":\\\"One or more validation errors occurred.\\\",\\\"status\\\":400,\\\"traceId\\\":\\\"00-ebc3dc50d9320cffbbc992aa2d24f8d0-28afaf69c437074f-01\\\"}\"}}\n\tCode: InferencingClientCallFailed\n\tMessage: {\"error\":{\"code\":\"Validation\",\"message\":\"{\\\"errors\\\":{\\\"\\\":[\\\"This endpoint has not been created successfully or is in deleting provisioning state. Please recreate endpoint and then try again to create deployment.\\\"]},\\\"type\\\":\\\"https://tools.ietf.org/html/rfc9110#section-15.5.1\\\",\\\"title\\\":\\\"One or more validation errors occurred.\\\",\\\"status\\\":400,\\\"traceId\\\":\\\"00-ebc3dc50d9320cffbbc992aa2d24f8d0-28afaf69c437074f-01\\\"}\"}}\nAdditional Information:Type: ComponentName\nInfo: {\n    \"value\": \"managementfrontend\"\n}Type: Correlation\nInfo: {\n    \"value\": {\n        \"operation\": \"ebc3dc50d9320cffbbc992aa2d24f8d0\",\n        \"request\": \"11d6ec850273544c\"\n    }\n}Type: Environment\nInfo: {\n    \"value\": \"eastus\"\n}Type: Location\nInfo: {\n    \"value\": \"eastus\"\n}Type: Time\nInfo: {\n    \"value\": \"2025-04-09T11:53:33.995768+00:00\"\n}",
     "output_type": "error",
     "traceback": [
      "\u001B[0;31m---------------------------------------------------------------------------\u001B[0m",
      "\u001B[0;31mHttpResponseError\u001B[0m                         Traceback (most recent call last)",
      "Cell \u001B[0;32mIn[78], line 1\u001B[0m\n\u001B[0;32m----> 1\u001B[0m \u001B[43mml_client\u001B[49m\u001B[38;5;241;43m.\u001B[39;49m\u001B[43monline_deployments\u001B[49m\u001B[38;5;241;43m.\u001B[39;49m\u001B[43mbegin_create_or_update\u001B[49m\u001B[43m(\u001B[49m\u001B[43mdeployment\u001B[49m\u001B[43m)\u001B[49m\n",
      "File \u001B[0;32m/anaconda/envs/azureml_py310_sdkv2/lib/python3.10/site-packages/azure/core/tracing/decorator.py:94\u001B[0m, in \u001B[0;36mdistributed_trace.<locals>.decorator.<locals>.wrapper_use_tracer\u001B[0;34m(*args, **kwargs)\u001B[0m\n\u001B[1;32m     92\u001B[0m span_impl_type \u001B[38;5;241m=\u001B[39m settings\u001B[38;5;241m.\u001B[39mtracing_implementation()\n\u001B[1;32m     93\u001B[0m \u001B[38;5;28;01mif\u001B[39;00m span_impl_type \u001B[38;5;129;01mis\u001B[39;00m \u001B[38;5;28;01mNone\u001B[39;00m:\n\u001B[0;32m---> 94\u001B[0m     \u001B[38;5;28;01mreturn\u001B[39;00m \u001B[43mfunc\u001B[49m\u001B[43m(\u001B[49m\u001B[38;5;241;43m*\u001B[39;49m\u001B[43margs\u001B[49m\u001B[43m,\u001B[49m\u001B[43m \u001B[49m\u001B[38;5;241;43m*\u001B[39;49m\u001B[38;5;241;43m*\u001B[39;49m\u001B[43mkwargs\u001B[49m\u001B[43m)\u001B[49m\n\u001B[1;32m     96\u001B[0m \u001B[38;5;66;03m# Merge span is parameter is set, but only if no explicit parent are passed\u001B[39;00m\n\u001B[1;32m     97\u001B[0m \u001B[38;5;28;01mif\u001B[39;00m merge_span \u001B[38;5;129;01mand\u001B[39;00m \u001B[38;5;129;01mnot\u001B[39;00m passed_in_parent:\n",
      "File \u001B[0;32m/anaconda/envs/azureml_py310_sdkv2/lib/python3.10/site-packages/azure/ai/ml/_telemetry/activity.py:289\u001B[0m, in \u001B[0;36mmonitor_with_activity.<locals>.monitor.<locals>.wrapper\u001B[0;34m(*args, **kwargs)\u001B[0m\n\u001B[1;32m    285\u001B[0m     \u001B[38;5;28;01mwith\u001B[39;00m tracer\u001B[38;5;241m.\u001B[39mspan():\n\u001B[1;32m    286\u001B[0m         \u001B[38;5;28;01mwith\u001B[39;00m log_activity(\n\u001B[1;32m    287\u001B[0m             logger\u001B[38;5;241m.\u001B[39mpackage_logger, activity_name \u001B[38;5;129;01mor\u001B[39;00m f\u001B[38;5;241m.\u001B[39m\u001B[38;5;18m__name__\u001B[39m, activity_type, custom_dimensions\n\u001B[1;32m    288\u001B[0m         ):\n\u001B[0;32m--> 289\u001B[0m             \u001B[38;5;28;01mreturn\u001B[39;00m \u001B[43mf\u001B[49m\u001B[43m(\u001B[49m\u001B[38;5;241;43m*\u001B[39;49m\u001B[43margs\u001B[49m\u001B[43m,\u001B[49m\u001B[43m \u001B[49m\u001B[38;5;241;43m*\u001B[39;49m\u001B[38;5;241;43m*\u001B[39;49m\u001B[43mkwargs\u001B[49m\u001B[43m)\u001B[49m\n\u001B[1;32m    290\u001B[0m \u001B[38;5;28;01melif\u001B[39;00m \u001B[38;5;28mhasattr\u001B[39m(logger, \u001B[38;5;124m\"\u001B[39m\u001B[38;5;124mpackage_logger\u001B[39m\u001B[38;5;124m\"\u001B[39m):\n\u001B[1;32m    291\u001B[0m     \u001B[38;5;28;01mwith\u001B[39;00m log_activity(logger\u001B[38;5;241m.\u001B[39mpackage_logger, activity_name \u001B[38;5;129;01mor\u001B[39;00m f\u001B[38;5;241m.\u001B[39m\u001B[38;5;18m__name__\u001B[39m, activity_type, custom_dimensions):\n",
      "File \u001B[0;32m/anaconda/envs/azureml_py310_sdkv2/lib/python3.10/site-packages/azure/ai/ml/operations/_online_deployment_operations.py:218\u001B[0m, in \u001B[0;36mOnlineDeploymentOperations.begin_create_or_update\u001B[0;34m(self, deployment, local, vscode_debug, skip_script_validation, local_enable_gpu, **kwargs)\u001B[0m\n\u001B[1;32m    216\u001B[0m     log_and_raise_error(ex)\n\u001B[1;32m    217\u001B[0m \u001B[38;5;28;01melse\u001B[39;00m:\n\u001B[0;32m--> 218\u001B[0m     \u001B[38;5;28;01mraise\u001B[39;00m ex\n",
      "File \u001B[0;32m/anaconda/envs/azureml_py310_sdkv2/lib/python3.10/site-packages/azure/ai/ml/operations/_online_deployment_operations.py:213\u001B[0m, in \u001B[0;36mOnlineDeploymentOperations.begin_create_or_update\u001B[0;34m(self, deployment, local, vscode_debug, skip_script_validation, local_enable_gpu, **kwargs)\u001B[0m\n\u001B[1;32m    211\u001B[0m         \u001B[38;5;28;01mreturn\u001B[39;00m poller\n\u001B[1;32m    212\u001B[0m     \u001B[38;5;28;01mexcept\u001B[39;00m \u001B[38;5;167;01mException\u001B[39;00m \u001B[38;5;28;01mas\u001B[39;00m ex:\n\u001B[0;32m--> 213\u001B[0m         \u001B[38;5;28;01mraise\u001B[39;00m ex\n\u001B[1;32m    214\u001B[0m \u001B[38;5;28;01mexcept\u001B[39;00m \u001B[38;5;167;01mException\u001B[39;00m \u001B[38;5;28;01mas\u001B[39;00m ex:  \u001B[38;5;66;03m# pylint: disable=W0718\u001B[39;00m\n\u001B[1;32m    215\u001B[0m     \u001B[38;5;28;01mif\u001B[39;00m \u001B[38;5;28misinstance\u001B[39m(ex, (ValidationException, SchemaValidationError)):\n",
      "File \u001B[0;32m/anaconda/envs/azureml_py310_sdkv2/lib/python3.10/site-packages/azure/ai/ml/operations/_online_deployment_operations.py:196\u001B[0m, in \u001B[0;36mOnlineDeploymentOperations.begin_create_or_update\u001B[0;34m(self, deployment, local, vscode_debug, skip_script_validation, local_enable_gpu, **kwargs)\u001B[0m\n\u001B[1;32m    192\u001B[0m         module_logger\u001B[38;5;241m.\u001B[39minfo(\u001B[38;5;124m\"\u001B[39m\u001B[38;5;130;01m\\n\u001B[39;00m\u001B[38;5;124mStarting deployment\u001B[39m\u001B[38;5;124m\"\u001B[39m)\n\u001B[1;32m    194\u001B[0m     deployment_rest \u001B[38;5;241m=\u001B[39m deployment\u001B[38;5;241m.\u001B[39m_to_rest_object(location\u001B[38;5;241m=\u001B[39mlocation)  \u001B[38;5;66;03m# type: ignore\u001B[39;00m\n\u001B[0;32m--> 196\u001B[0m     poller \u001B[38;5;241m=\u001B[39m \u001B[38;5;28;43mself\u001B[39;49m\u001B[38;5;241;43m.\u001B[39;49m\u001B[43m_online_deployment\u001B[49m\u001B[38;5;241;43m.\u001B[39;49m\u001B[43mbegin_create_or_update\u001B[49m\u001B[43m(\u001B[49m\n\u001B[1;32m    197\u001B[0m \u001B[43m        \u001B[49m\u001B[43mresource_group_name\u001B[49m\u001B[38;5;241;43m=\u001B[39;49m\u001B[38;5;28;43mself\u001B[39;49m\u001B[38;5;241;43m.\u001B[39;49m\u001B[43m_resource_group_name\u001B[49m\u001B[43m,\u001B[49m\n\u001B[1;32m    198\u001B[0m \u001B[43m        \u001B[49m\u001B[43mworkspace_name\u001B[49m\u001B[38;5;241;43m=\u001B[39;49m\u001B[38;5;28;43mself\u001B[39;49m\u001B[38;5;241;43m.\u001B[39;49m\u001B[43m_workspace_name\u001B[49m\u001B[43m,\u001B[49m\n\u001B[1;32m    199\u001B[0m \u001B[43m        \u001B[49m\u001B[43mendpoint_name\u001B[49m\u001B[38;5;241;43m=\u001B[39;49m\u001B[43mdeployment\u001B[49m\u001B[38;5;241;43m.\u001B[39;49m\u001B[43mendpoint_name\u001B[49m\u001B[43m,\u001B[49m\n\u001B[1;32m    200\u001B[0m \u001B[43m        \u001B[49m\u001B[43mdeployment_name\u001B[49m\u001B[38;5;241;43m=\u001B[39;49m\u001B[43mdeployment\u001B[49m\u001B[38;5;241;43m.\u001B[39;49m\u001B[43mname\u001B[49m\u001B[43m,\u001B[49m\n\u001B[1;32m    201\u001B[0m \u001B[43m        \u001B[49m\u001B[43mbody\u001B[49m\u001B[38;5;241;43m=\u001B[39;49m\u001B[43mdeployment_rest\u001B[49m\u001B[43m,\u001B[49m\n\u001B[1;32m    202\u001B[0m \u001B[43m        \u001B[49m\u001B[43mpolling\u001B[49m\u001B[38;5;241;43m=\u001B[39;49m\u001B[43mAzureMLPolling\u001B[49m\u001B[43m(\u001B[49m\n\u001B[1;32m    203\u001B[0m \u001B[43m            \u001B[49m\u001B[43mLROConfigurations\u001B[49m\u001B[38;5;241;43m.\u001B[39;49m\u001B[43mPOLL_INTERVAL\u001B[49m\u001B[43m,\u001B[49m\n\u001B[1;32m    204\u001B[0m \u001B[43m            \u001B[49m\u001B[43mpath_format_arguments\u001B[49m\u001B[38;5;241;43m=\u001B[39;49m\u001B[43mpath_format_arguments\u001B[49m\u001B[43m,\u001B[49m\n\u001B[1;32m    205\u001B[0m \u001B[43m            \u001B[49m\u001B[38;5;241;43m*\u001B[39;49m\u001B[38;5;241;43m*\u001B[39;49m\u001B[38;5;28;43mself\u001B[39;49m\u001B[38;5;241;43m.\u001B[39;49m\u001B[43m_init_kwargs\u001B[49m\u001B[43m,\u001B[49m\n\u001B[1;32m    206\u001B[0m \u001B[43m        \u001B[49m\u001B[43m)\u001B[49m\u001B[43m,\u001B[49m\n\u001B[1;32m    207\u001B[0m \u001B[43m        \u001B[49m\u001B[43mpolling_interval\u001B[49m\u001B[38;5;241;43m=\u001B[39;49m\u001B[43mLROConfigurations\u001B[49m\u001B[38;5;241;43m.\u001B[39;49m\u001B[43mPOLL_INTERVAL\u001B[49m\u001B[43m,\u001B[49m\n\u001B[1;32m    208\u001B[0m \u001B[43m        \u001B[49m\u001B[38;5;241;43m*\u001B[39;49m\u001B[38;5;241;43m*\u001B[39;49m\u001B[38;5;28;43mself\u001B[39;49m\u001B[38;5;241;43m.\u001B[39;49m\u001B[43m_init_kwargs\u001B[49m\u001B[43m,\u001B[49m\n\u001B[1;32m    209\u001B[0m \u001B[43m        \u001B[49m\u001B[38;5;28;43mcls\u001B[39;49m\u001B[38;5;241;43m=\u001B[39;49m\u001B[38;5;28;43;01mlambda\u001B[39;49;00m\u001B[43m \u001B[49m\u001B[43mresponse\u001B[49m\u001B[43m,\u001B[49m\u001B[43m \u001B[49m\u001B[43mdeserialized\u001B[49m\u001B[43m,\u001B[49m\u001B[43m \u001B[49m\u001B[43mheaders\u001B[49m\u001B[43m:\u001B[49m\u001B[43m \u001B[49m\u001B[43mOnlineDeployment\u001B[49m\u001B[38;5;241;43m.\u001B[39;49m\u001B[43m_from_rest_object\u001B[49m\u001B[43m(\u001B[49m\u001B[43mdeserialized\u001B[49m\u001B[43m)\u001B[49m\u001B[43m,\u001B[49m\n\u001B[1;32m    210\u001B[0m \u001B[43m    \u001B[49m\u001B[43m)\u001B[49m\n\u001B[1;32m    211\u001B[0m     \u001B[38;5;28;01mreturn\u001B[39;00m poller\n\u001B[1;32m    212\u001B[0m \u001B[38;5;28;01mexcept\u001B[39;00m \u001B[38;5;167;01mException\u001B[39;00m \u001B[38;5;28;01mas\u001B[39;00m ex:\n",
      "File \u001B[0;32m/anaconda/envs/azureml_py310_sdkv2/lib/python3.10/site-packages/azure/core/tracing/decorator.py:94\u001B[0m, in \u001B[0;36mdistributed_trace.<locals>.decorator.<locals>.wrapper_use_tracer\u001B[0;34m(*args, **kwargs)\u001B[0m\n\u001B[1;32m     92\u001B[0m span_impl_type \u001B[38;5;241m=\u001B[39m settings\u001B[38;5;241m.\u001B[39mtracing_implementation()\n\u001B[1;32m     93\u001B[0m \u001B[38;5;28;01mif\u001B[39;00m span_impl_type \u001B[38;5;129;01mis\u001B[39;00m \u001B[38;5;28;01mNone\u001B[39;00m:\n\u001B[0;32m---> 94\u001B[0m     \u001B[38;5;28;01mreturn\u001B[39;00m \u001B[43mfunc\u001B[49m\u001B[43m(\u001B[49m\u001B[38;5;241;43m*\u001B[39;49m\u001B[43margs\u001B[49m\u001B[43m,\u001B[49m\u001B[43m \u001B[49m\u001B[38;5;241;43m*\u001B[39;49m\u001B[38;5;241;43m*\u001B[39;49m\u001B[43mkwargs\u001B[49m\u001B[43m)\u001B[49m\n\u001B[1;32m     96\u001B[0m \u001B[38;5;66;03m# Merge span is parameter is set, but only if no explicit parent are passed\u001B[39;00m\n\u001B[1;32m     97\u001B[0m \u001B[38;5;28;01mif\u001B[39;00m merge_span \u001B[38;5;129;01mand\u001B[39;00m \u001B[38;5;129;01mnot\u001B[39;00m passed_in_parent:\n",
      "File \u001B[0;32m/anaconda/envs/azureml_py310_sdkv2/lib/python3.10/site-packages/azure/ai/ml/_restclient/v2023_04_01_preview/operations/_online_deployments_operations.py:933\u001B[0m, in \u001B[0;36mOnlineDeploymentsOperations.begin_create_or_update\u001B[0;34m(self, resource_group_name, workspace_name, endpoint_name, deployment_name, body, **kwargs)\u001B[0m\n\u001B[1;32m    931\u001B[0m cont_token \u001B[38;5;241m=\u001B[39m kwargs\u001B[38;5;241m.\u001B[39mpop(\u001B[38;5;124m'\u001B[39m\u001B[38;5;124mcontinuation_token\u001B[39m\u001B[38;5;124m'\u001B[39m, \u001B[38;5;28;01mNone\u001B[39;00m)  \u001B[38;5;66;03m# type: Optional[str]\u001B[39;00m\n\u001B[1;32m    932\u001B[0m \u001B[38;5;28;01mif\u001B[39;00m cont_token \u001B[38;5;129;01mis\u001B[39;00m \u001B[38;5;28;01mNone\u001B[39;00m:\n\u001B[0;32m--> 933\u001B[0m     raw_result \u001B[38;5;241m=\u001B[39m \u001B[38;5;28;43mself\u001B[39;49m\u001B[38;5;241;43m.\u001B[39;49m\u001B[43m_create_or_update_initial\u001B[49m\u001B[43m(\u001B[49m\n\u001B[1;32m    934\u001B[0m \u001B[43m        \u001B[49m\u001B[43mresource_group_name\u001B[49m\u001B[38;5;241;43m=\u001B[39;49m\u001B[43mresource_group_name\u001B[49m\u001B[43m,\u001B[49m\n\u001B[1;32m    935\u001B[0m \u001B[43m        \u001B[49m\u001B[43mworkspace_name\u001B[49m\u001B[38;5;241;43m=\u001B[39;49m\u001B[43mworkspace_name\u001B[49m\u001B[43m,\u001B[49m\n\u001B[1;32m    936\u001B[0m \u001B[43m        \u001B[49m\u001B[43mendpoint_name\u001B[49m\u001B[38;5;241;43m=\u001B[39;49m\u001B[43mendpoint_name\u001B[49m\u001B[43m,\u001B[49m\n\u001B[1;32m    937\u001B[0m \u001B[43m        \u001B[49m\u001B[43mdeployment_name\u001B[49m\u001B[38;5;241;43m=\u001B[39;49m\u001B[43mdeployment_name\u001B[49m\u001B[43m,\u001B[49m\n\u001B[1;32m    938\u001B[0m \u001B[43m        \u001B[49m\u001B[43mbody\u001B[49m\u001B[38;5;241;43m=\u001B[39;49m\u001B[43mbody\u001B[49m\u001B[43m,\u001B[49m\n\u001B[1;32m    939\u001B[0m \u001B[43m        \u001B[49m\u001B[43mapi_version\u001B[49m\u001B[38;5;241;43m=\u001B[39;49m\u001B[43mapi_version\u001B[49m\u001B[43m,\u001B[49m\n\u001B[1;32m    940\u001B[0m \u001B[43m        \u001B[49m\u001B[43mcontent_type\u001B[49m\u001B[38;5;241;43m=\u001B[39;49m\u001B[43mcontent_type\u001B[49m\u001B[43m,\u001B[49m\n\u001B[1;32m    941\u001B[0m \u001B[43m        \u001B[49m\u001B[38;5;28;43mcls\u001B[39;49m\u001B[38;5;241;43m=\u001B[39;49m\u001B[38;5;28;43;01mlambda\u001B[39;49;00m\u001B[43m \u001B[49m\u001B[43mx\u001B[49m\u001B[43m,\u001B[49m\u001B[43my\u001B[49m\u001B[43m,\u001B[49m\u001B[43mz\u001B[49m\u001B[43m:\u001B[49m\u001B[43m \u001B[49m\u001B[43mx\u001B[49m\u001B[43m,\u001B[49m\n\u001B[1;32m    942\u001B[0m \u001B[43m        \u001B[49m\u001B[38;5;241;43m*\u001B[39;49m\u001B[38;5;241;43m*\u001B[39;49m\u001B[43mkwargs\u001B[49m\n\u001B[1;32m    943\u001B[0m \u001B[43m    \u001B[49m\u001B[43m)\u001B[49m\n\u001B[1;32m    944\u001B[0m kwargs\u001B[38;5;241m.\u001B[39mpop(\u001B[38;5;124m'\u001B[39m\u001B[38;5;124merror_map\u001B[39m\u001B[38;5;124m'\u001B[39m, \u001B[38;5;28;01mNone\u001B[39;00m)\n\u001B[1;32m    946\u001B[0m \u001B[38;5;28;01mdef\u001B[39;00m \u001B[38;5;21mget_long_running_output\u001B[39m(pipeline_response):\n",
      "File \u001B[0;32m/anaconda/envs/azureml_py310_sdkv2/lib/python3.10/site-packages/azure/ai/ml/_restclient/v2023_04_01_preview/operations/_online_deployments_operations.py:864\u001B[0m, in \u001B[0;36mOnlineDeploymentsOperations._create_or_update_initial\u001B[0;34m(self, resource_group_name, workspace_name, endpoint_name, deployment_name, body, **kwargs)\u001B[0m\n\u001B[1;32m    862\u001B[0m \u001B[38;5;28;01mif\u001B[39;00m response\u001B[38;5;241m.\u001B[39mstatus_code \u001B[38;5;129;01mnot\u001B[39;00m \u001B[38;5;129;01min\u001B[39;00m [\u001B[38;5;241m200\u001B[39m, \u001B[38;5;241m201\u001B[39m]:\n\u001B[1;32m    863\u001B[0m     map_error(status_code\u001B[38;5;241m=\u001B[39mresponse\u001B[38;5;241m.\u001B[39mstatus_code, response\u001B[38;5;241m=\u001B[39mresponse, error_map\u001B[38;5;241m=\u001B[39merror_map)\n\u001B[0;32m--> 864\u001B[0m     \u001B[38;5;28;01mraise\u001B[39;00m HttpResponseError(response\u001B[38;5;241m=\u001B[39mresponse, error_format\u001B[38;5;241m=\u001B[39mARMErrorFormat)\n\u001B[1;32m    866\u001B[0m response_headers \u001B[38;5;241m=\u001B[39m {}\n\u001B[1;32m    867\u001B[0m \u001B[38;5;28;01mif\u001B[39;00m response\u001B[38;5;241m.\u001B[39mstatus_code \u001B[38;5;241m==\u001B[39m \u001B[38;5;241m200\u001B[39m:\n",
      "\u001B[0;31mHttpResponseError\u001B[0m: (BadRequest) The request is invalid.\nCode: BadRequest\nMessage: The request is invalid.\nException Details:\t(InferencingClientCallFailed) {\"error\":{\"code\":\"Validation\",\"message\":\"{\\\"errors\\\":{\\\"\\\":[\\\"This endpoint has not been created successfully or is in deleting provisioning state. Please recreate endpoint and then try again to create deployment.\\\"]},\\\"type\\\":\\\"https://tools.ietf.org/html/rfc9110#section-15.5.1\\\",\\\"title\\\":\\\"One or more validation errors occurred.\\\",\\\"status\\\":400,\\\"traceId\\\":\\\"00-ebc3dc50d9320cffbbc992aa2d24f8d0-28afaf69c437074f-01\\\"}\"}}\n\tCode: InferencingClientCallFailed\n\tMessage: {\"error\":{\"code\":\"Validation\",\"message\":\"{\\\"errors\\\":{\\\"\\\":[\\\"This endpoint has not been created successfully or is in deleting provisioning state. Please recreate endpoint and then try again to create deployment.\\\"]},\\\"type\\\":\\\"https://tools.ietf.org/html/rfc9110#section-15.5.1\\\",\\\"title\\\":\\\"One or more validation errors occurred.\\\",\\\"status\\\":400,\\\"traceId\\\":\\\"00-ebc3dc50d9320cffbbc992aa2d24f8d0-28afaf69c437074f-01\\\"}\"}}\nAdditional Information:Type: ComponentName\nInfo: {\n    \"value\": \"managementfrontend\"\n}Type: Correlation\nInfo: {\n    \"value\": {\n        \"operation\": \"ebc3dc50d9320cffbbc992aa2d24f8d0\",\n        \"request\": \"11d6ec850273544c\"\n    }\n}Type: Environment\nInfo: {\n    \"value\": \"eastus\"\n}Type: Location\nInfo: {\n    \"value\": \"eastus\"\n}Type: Time\nInfo: {\n    \"value\": \"2025-04-09T11:53:33.995768+00:00\"\n}"
     ]
    }
   ],
   "source": [
    "ml_client.online_deployments.begin_create_or_update(deployment)\n"
   ]
  },
  {
   "cell_type": "code",
   "execution_count": null,
   "metadata": {},
   "outputs": [],
   "source": []
  }
 ],
 "metadata": {
  "kernel_info": {
   "name": "python310-sdkv2"
  },
  "kernelspec": {
   "display_name": "Python 3.10 - SDK v2",
   "language": "python",
   "name": "python310-sdkv2"
  },
  "language_info": {
   "codemirror_mode": {
    "name": "ipython",
    "version": 3
   },
   "file_extension": ".py",
   "mimetype": "text/x-python",
   "name": "python",
   "nbconvert_exporter": "python",
   "pygments_lexer": "ipython3",
   "version": "3.10.14"
  },
  "microsoft": {
   "host": {
    "AzureML": {
     "notebookHasBeenCompleted": true
    }
   },
   "ms_spell_check": {
    "ms_spell_check_language": "en"
   }
  },
  "nteract": {
   "version": "nteract-front-end@1.0.0"
  }
 },
 "nbformat": 4,
 "nbformat_minor": 2
}
